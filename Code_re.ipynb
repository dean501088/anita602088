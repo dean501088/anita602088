{
 "cells": [
  {
   "cell_type": "markdown",
   "metadata": {},
   "source": [
    "# Page 18"
   ]
  },
  {
   "cell_type": "code",
   "execution_count": 2,
   "metadata": {},
   "outputs": [
    {
     "name": "stdout",
     "output_type": "stream",
     "text": [
      "456\n"
     ]
    }
   ],
   "source": [
    "a_dict = {'apple': 86, 'banana': 'yellow', 1: 123, 'v2': 456, 'v3': 'acc', 'Nothing': None}\n",
    "\n",
    "print(a_dict ['v2'])"
   ]
  },
  {
   "cell_type": "markdown",
   "metadata": {},
   "source": [
    "# Page 19"
   ]
  },
  {
   "cell_type": "code",
   "execution_count": 4,
   "metadata": {},
   "outputs": [
    {
     "name": "stdout",
     "output_type": "stream",
     "text": [
      "{'apple': 86, 'banana': 'yellow', 1: 123, 'v2': 999, 'v3': 'acc', 'Nothing': None}\n"
     ]
    }
   ],
   "source": [
    "a_dict = {'apple': 86, 'banana': 'yellow', 1: 123,'v2': 456, 'v3': 'acc', 'Nothing': None}\n",
    "\n",
    "a_dict['v2'] = 999\n",
    "\n",
    "print(a_dict)"
   ]
  },
  {
   "cell_type": "markdown",
   "metadata": {},
   "source": [
    "# Page 20.21"
   ]
  },
  {
   "cell_type": "code",
   "execution_count": 5,
   "metadata": {},
   "outputs": [
    {
     "name": "stdout",
     "output_type": "stream",
     "text": [
      "dict_keys(['apple', 'banana', 1, 'v2', 'v3', 'Nothing'])\n",
      "dict_values([86, 'yellow', 123, 456, 'acc', None])\n",
      "dict_items([('apple', 86), ('banana', 'yellow'), (1, 123), ('v2', 456), ('v3', 'acc'), ('Nothing', None)])\n"
     ]
    }
   ],
   "source": [
    "a_dict = {'apple': 86, 'banana': 'yellow', 1: 123, \n",
    "'v2': 456, 'v3': 'acc', 'Nothing': None}\n",
    "\n",
    "print(a_dict.keys())\n",
    "\n",
    "print(a_dict.values())\n",
    "\n",
    "print(a_dict.items())"
   ]
  },
  {
   "cell_type": "markdown",
   "metadata": {},
   "source": [
    "# Page 22"
   ]
  },
  {
   "cell_type": "code",
   "execution_count": 6,
   "metadata": {},
   "outputs": [
    {
     "name": "stdout",
     "output_type": "stream",
     "text": [
      "{'apple': 86, 'banana': 'yellow', 1: 123, 'v2': 456, 'v3': 'acc', 'Nothing': None, 'new': 'This is a new Value.', 0: 'New Value.'}\n"
     ]
    }
   ],
   "source": [
    "a_dict = {'apple': 86, 'banana': 'yellow', 1: 123,\n",
    "'v2': 456, 'v3': 'acc', 'Nothing': None}\n",
    "\n",
    "a_dict['new'] = \"This is a new Value.\"\n",
    "\n",
    "a_dict[0] = \"New Value.\"\n",
    "\n",
    "print(a_dict)"
   ]
  },
  {
   "cell_type": "markdown",
   "metadata": {},
   "source": [
    "# Page 23"
   ]
  },
  {
   "cell_type": "code",
   "execution_count": 7,
   "metadata": {},
   "outputs": [
    {
     "ename": "KeyError",
     "evalue": "'c'",
     "output_type": "error",
     "traceback": [
      "\u001b[0;31m---------------------------------------------------------------------------\u001b[0m",
      "\u001b[0;31mKeyError\u001b[0m                                  Traceback (most recent call last)",
      "\u001b[0;32m<ipython-input-7-e2c7513826f7>\u001b[0m in \u001b[0;36m<module>\u001b[0;34m()\u001b[0m\n\u001b[1;32m      1\u001b[0m \u001b[0ma_dict\u001b[0m \u001b[0;34m=\u001b[0m \u001b[0;34m{\u001b[0m\u001b[0;34m'a'\u001b[0m\u001b[0;34m:\u001b[0m \u001b[0;36m86\u001b[0m\u001b[0;34m,\u001b[0m \u001b[0;34m'b'\u001b[0m\u001b[0;34m:\u001b[0m \u001b[0;36m1\u001b[0m\u001b[0;34m,\u001b[0m \u001b[0;34m'v2'\u001b[0m\u001b[0;34m:\u001b[0m \u001b[0;36m456\u001b[0m\u001b[0;34m}\u001b[0m\u001b[0;34m\u001b[0m\u001b[0m\n\u001b[1;32m      2\u001b[0m \u001b[0;34m\u001b[0m\u001b[0m\n\u001b[0;32m----> 3\u001b[0;31m \u001b[0mprint\u001b[0m\u001b[0;34m(\u001b[0m\u001b[0ma_dict\u001b[0m\u001b[0;34m[\u001b[0m\u001b[0;34m'c'\u001b[0m\u001b[0;34m]\u001b[0m\u001b[0;34m)\u001b[0m\u001b[0;34m\u001b[0m\u001b[0m\n\u001b[0m",
      "\u001b[0;31mKeyError\u001b[0m: 'c'"
     ]
    }
   ],
   "source": [
    "a_dict = {'a': 86, 'b': 1, 'v2': 456}\n",
    "\n",
    "print(a_dict['c'])"
   ]
  },
  {
   "cell_type": "markdown",
   "metadata": {},
   "source": [
    "# Page 25"
   ]
  },
  {
   "cell_type": "code",
   "execution_count": 8,
   "metadata": {},
   "outputs": [
    {
     "name": "stdout",
     "output_type": "stream",
     "text": [
      "{'a': 86, 'b': 1, 'v2': 456, 'c': 'My_c_Value.'}\n"
     ]
    }
   ],
   "source": [
    "a_dict = {'a': 86, 'b': 1, 'v2': 456}\n",
    "\n",
    "a_dict['c'] = \"My_c_Value.\"\n",
    "\n",
    "print(a_dict)"
   ]
  }
 ],
 "metadata": {
  "kernelspec": {
   "display_name": "Python 3",
   "language": "python",
   "name": "python3"
  },
  "language_info": {
   "codemirror_mode": {
    "name": "ipython",
    "version": 3
   },
   "file_extension": ".py",
   "mimetype": "text/x-python",
   "name": "python",
   "nbconvert_exporter": "python",
   "pygments_lexer": "ipython3",
   "version": "3.6.4"
  }
 },
 "nbformat": 4,
 "nbformat_minor": 2
}
